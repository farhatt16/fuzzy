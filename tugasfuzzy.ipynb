{
 "cells": [
  {
   "cell_type": "code",
   "execution_count": 15,
   "id": "2fce7a5e-7349-495e-9544-e09e242f0790",
   "metadata": {},
   "outputs": [
    {
     "name": "stdout",
     "output_type": "stream",
     "text": [
      "Produksi yang dihasilkan: 6166.666666666668\n"
     ]
    }
   ],
   "source": [
    "import numpy as np\n",
    "\n",
    "def permintaan_turun(x):\n",
    "    return max(0, min(1, (4000 - x) / 3000))\n",
    "\n",
    "def permintaan_tetap(x):\n",
    "    return max(0, min((x - 1000) / 3000, (7000 - x) / 3000))\n",
    "\n",
    "def permintaan_naik(x):\n",
    "    return max(0, min(1, (x - 4000) / 3000))\n",
    "\n",
    "# Fungsi keanggotaan untuk Persediaan\n",
    "def persediaan_sedikit(x):\n",
    "    return max(0, min(1, (400 - x) / 400))\n",
    "\n",
    "def persediaan_sedang(x):\n",
    "    return max(0, min((x - 200) / 200, (800 - x) / 200))\n",
    "\n",
    "def persediaan_banyak(x):\n",
    "    return max(0, min(1, (x - 600) / 400))\n",
    "\n",
    "# Fungsi keanggotaan untuk Produksi\n",
    "def produksi_berkurang(z):\n",
    "    return max(0, min(1, (7000 - z) / 5000))\n",
    "\n",
    "def produksi_bertambah(z):\n",
    "    return max(0, min(1, (z - 2000) / 5000))\n",
    "\n",
    "def defuzzifikasi(fuzzy_outputs):\n",
    "    return sum(weight * value for weight, value in fuzzy_outputs) / sum(weight for weight, _ in fuzzy_outputs)\n",
    "\n",
    "def fuzzy_inference(permintaan, persediaan):\n",
    "    fuzzy_outputs = []\n",
    "\n",
    "    # rules\n",
    "\n",
    "    μ_perm_turun = permintaan_turun(permintaan)\n",
    "    μ_pers_sedikit = persediaan_sedikit(persediaan)\n",
    "    z_bertambah = 2000 + min(μ_perm_turun, μ_pers_sedikit) * 5000\n",
    "    fuzzy_outputs.append((min(μ_perm_turun, μ_pers_sedikit), z_bertambah))\n",
    "\n",
    "    μ_pers_sedang = persediaan_sedang(persediaan)\n",
    "    z_berkurang = 7000 - min(μ_perm_turun, μ_pers_sedang) * 5000\n",
    "    fuzzy_outputs.append((min(μ_perm_turun, μ_pers_sedang), z_berkurang))\n",
    "\n",
    "    μ_pers_banyak = persediaan_banyak(persediaan)\n",
    "    z_berkurang = 7000 - min(μ_perm_turun, μ_pers_banyak) * 5000\n",
    "    fuzzy_outputs.append((min(μ_perm_turun, μ_pers_banyak), z_berkurang))\n",
    "\n",
    "    μ_perm_tetap = permintaan_tetap(permintaan)\n",
    "    z_bertambah = 2000 + min(μ_perm_tetap, μ_pers_sedikit) * 5000\n",
    "    fuzzy_outputs.append((min(μ_perm_tetap, μ_pers_sedikit), z_bertambah))\n",
    "\n",
    "    z_bertambah = 2000 + min(μ_perm_tetap, μ_pers_sedang) * 5000\n",
    "    fuzzy_outputs.append((min(μ_perm_tetap, μ_pers_sedang), z_bertambah))\n",
    "\n",
    "    z_berkurang = 7000 - min(μ_perm_tetap, μ_pers_banyak) * 5000\n",
    "    fuzzy_outputs.append((min(μ_perm_tetap, μ_pers_banyak), z_berkurang))\n",
    "\n",
    "    μ_perm_naik = permintaan_naik(permintaan)\n",
    "    z_bertambah = 2000 + min(μ_perm_naik, μ_pers_sedikit) * 5000\n",
    "    fuzzy_outputs.append((min(μ_perm_naik, μ_pers_sedikit), z_bertambah))\n",
    "\n",
    "    z_bertambah = 2000 + min(μ_perm_naik, μ_pers_sedang) * 5000\n",
    "    fuzzy_outputs.append((min(μ_perm_naik, μ_pers_sedang), z_bertambah))\n",
    "\n",
    "    z_berkurang = 7000 - min(μ_perm_naik, μ_pers_banyak) * 5000\n",
    "    fuzzy_outputs.append((min(μ_perm_naik, μ_pers_banyak), z_berkurang))\n",
    "\n",
    "    return defuzzifikasi(fuzzy_outputs)\n",
    "\n",
    "permintaan = 3500  \n",
    "persediaan = 500  \n",
    "\n",
    "produksi = fuzzy_inference(permintaan, persediaan)\n",
    "print(f\"Produksi yang dihasilkan: {produksi}\")\n"
   ]
  },
  {
   "cell_type": "code",
   "execution_count": null,
   "id": "0070fa38-63d1-4750-a000-2779cf59d184",
   "metadata": {},
   "outputs": [],
   "source": []
  }
 ],
 "metadata": {
  "kernelspec": {
   "display_name": "Python 3 (ipykernel)",
   "language": "python",
   "name": "python3"
  },
  "language_info": {
   "codemirror_mode": {
    "name": "ipython",
    "version": 3
   },
   "file_extension": ".py",
   "mimetype": "text/x-python",
   "name": "python",
   "nbconvert_exporter": "python",
   "pygments_lexer": "ipython3",
   "version": "3.12.6"
  }
 },
 "nbformat": 4,
 "nbformat_minor": 5
}
